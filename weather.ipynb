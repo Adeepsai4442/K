{
  "nbformat": 4,
  "nbformat_minor": 0,
  "metadata": {
    "colab": {
      "provenance": [],
      "authorship_tag": "ABX9TyPcfwp6apUaYtlPR7PABKC/",
      "include_colab_link": true
    },
    "kernelspec": {
      "name": "python3",
      "display_name": "Python 3"
    },
    "language_info": {
      "name": "python"
    }
  },
  "cells": [
    {
      "cell_type": "markdown",
      "metadata": {
        "id": "view-in-github",
        "colab_type": "text"
      },
      "source": [
        "<a href=\"https://colab.research.google.com/github/Adeepsai4442/K/blob/main/weather.ipynb\" target=\"_parent\"><img src=\"https://colab.research.google.com/assets/colab-badge.svg\" alt=\"Open In Colab\"/></a>"
      ]
    },
    {
      "cell_type": "code",
      "execution_count": 3,
      "metadata": {
        "colab": {
          "base_uri": "https://localhost:8080/"
        },
        "id": "d34sbo685BlM",
        "outputId": "3af1af7d-0ab7-46e2-84ff-ef6822ac6205"
      },
      "outputs": [
        {
          "output_type": "stream",
          "name": "stdout",
          "text": [
            "Stage 1 (Hard-coded): (2.0, 3.0)\n",
            "Enter coefficient a: 2\n",
            "Enter coefficient b: 3\n",
            "Enter coefficient c: 4\n",
            "Stage 2 (Keyboard Input): No real solutions for temperature exist.\n",
            "weather_data.txt not found.\n",
            "Stage 4 (Multiple Inputs from File):\n",
            "weather_data.txt not found.\n"
          ]
        }
      ],
      "source": [
        "# prompt: Implement weather modeling* using the quadratic solution in stages: hard-coding variables keyboard input, read from a file, for a single set of input, multiple sets of inputs.\n",
        "\n",
        "import math\n",
        "\n",
        "def quadratic_weather_model(a, b, c):\n",
        "    \"\"\"\n",
        "    Models weather using a quadratic equation.\n",
        "\n",
        "    Args:\n",
        "    a, b, c: Coefficients of the quadratic equation.\n",
        "\n",
        "    Returns:\n",
        "    A tuple containing the two possible solutions (temperatures)\n",
        "    or an appropriate message if there are no real solutions.\n",
        "    \"\"\"\n",
        "\n",
        "    delta = (b**2) - 4*(a*c)\n",
        "\n",
        "    if delta < 0:\n",
        "        return \"No real solutions for temperature exist.\"\n",
        "    else:\n",
        "        x1 = (-b - math.sqrt(delta)) / (2*a)\n",
        "        x2 = (-b + math.sqrt(delta)) / (2*a)\n",
        "        return x1, x2\n",
        "\n",
        "\n",
        "# Stage 1: Hard-coded variables\n",
        "a_hc, b_hc, c_hc = 1, -5, 6\n",
        "result_hc = quadratic_weather_model(a_hc, b_hc, c_hc)\n",
        "print(\"Stage 1 (Hard-coded):\", result_hc)\n",
        "\n",
        "\n",
        "# Stage 2: Keyboard input\n",
        "try:\n",
        "  a_ki = float(input(\"Enter coefficient a: \"))\n",
        "  b_ki = float(input(\"Enter coefficient b: \"))\n",
        "  c_ki = float(input(\"Enter coefficient c: \"))\n",
        "  result_ki = quadratic_weather_model(a_ki, b_ki, c_ki)\n",
        "  print(\"Stage 2 (Keyboard Input):\", result_ki)\n",
        "\n",
        "except ValueError:\n",
        "  print(\"Invalid input. Please enter numerical values.\")\n",
        "\n",
        "\n",
        "# Stage 3: Read from a file (assuming a file named 'weather_data.txt')\n",
        "# File format:  a b c (one set of coefficients per line)\n",
        "try:\n",
        "    with open('weather_data.txt', 'r') as file:\n",
        "        a_f, b_f, c_f = map(float, file.readline().split())  # Reads only the first line\n",
        "        result_f = quadratic_weather_model(a_f, b_f, c_f)\n",
        "        print(\"Stage 3 (File Input):\", result_f)\n",
        "\n",
        "except FileNotFoundError:\n",
        "    print(\"weather_data.txt not found.\")\n",
        "except ValueError:\n",
        "    print(\"Invalid data in weather_data.txt. Please ensure correct format (a b c).\")\n",
        "\n",
        "\n",
        "\n",
        "# Stage 4: Multiple sets of inputs from a file\n",
        "try:\n",
        "  print(\"Stage 4 (Multiple Inputs from File):\")\n",
        "  with open('weather_data.txt','r') as file:\n",
        "      for line in file:\n",
        "          try:\n",
        "              a_m, b_m, c_m = map(float, line.split())\n",
        "              result_m = quadratic_weather_model(a_m,b_m,c_m)\n",
        "              print(f\"  Coefficients: a = {a_m}, b = {b_m}, c = {c_m}, Result = {result_m}\")\n",
        "          except ValueError:\n",
        "              print(\"Invalid input on a line in the file.\")\n",
        "except FileNotFoundError:\n",
        "  print(\"weather_data.txt not found.\")"
      ]
    },
    {
      "cell_type": "code",
      "source": [
        " import math\n",
        "# Stage 1: Hardcoding variables\n",
        "def quadratic_weather_model_hardcoded():\n",
        "  a = 0.5  # Example quadratic coefficient\n",
        "  b = -2   # Example linear coefficient\n",
        "  c = 1    # Example constant\n",
        "\n",
        "  temperature = a * (0**2) + b * 0 + c\n",
        "  print(f\"Temperature: {temperature}\")\n",
        "\n",
        "# Stage 2: Keyboard Input\n",
        "def quadratic_weather_model_keyboard():\n",
        "  try:\n",
        "    a = float(input(\"Enter the quadratic coefficient (a): \"))\n",
        "    b = float(input(\"Enter the linear coefficient (b): \"))\n",
        "    c = float(input(\"Enter the constant (c): \"))\n",
        "    time = float(input(\"Enter time value: \"))\n",
        "\n",
        "    temperature = a * (time**2) + b * time + c\n",
        "    print(f\"Temperature at time {time}: {temperature}\")\n",
        "\n",
        "  except ValueError:\n",
        "    print(\"Invalid input. Please enter numerical values.\")\n",
        "\n",
        "# Stage 3: Read from a file\n",
        "def quadratic_weather_model_file(filename):\n",
        "  try:\n",
        "      with open(filename, 'r') as f:\n",
        "        a, b, c, time = map(float, f.readline().split(',')) # Assuming the file is comma separated\n",
        "\n",
        "      temperature = a * (time**2) + b * time + c\n",
        "      print(f\"Temperature at time {time}: {temperature}\")\n",
        "\n",
        "  except FileNotFoundError:\n",
        "      print(f\"Error: File '{filename}' not found.\")\n",
        "  except ValueError:\n",
        "      print(\"Invalid data in file. Please ensure the file contains four comma separated numerical values for a, b, c, time.\")\n",
        "  except Exception as e:\n",
        "    print(f\"An unexpected error occurred: {e}\")\n",
        "\n",
        "\n",
        "def quadratic_weather_model_multiple_inputs(filename=None):\n",
        "\n",
        "  if filename:\n",
        "      try:\n",
        "        with open(filename, 'r') as f:\n",
        "          for line in f:\n",
        "              try:\n",
        "                a, b, c, time = map(float, line.strip().split(','))\n",
        "                temperature = a * (time**2) + b * time + c\n",
        "                print(f\"For a = {a}, b = {b}, c = {c}, and time = {time}, Temperature: {temperature}\")\n",
        "              except ValueError:\n",
        "                  print(\"Skipping invalid line in file:\", line.strip()) # Handle bad lines gracefully\n",
        "      except FileNotFoundError:\n",
        "          print(f\"Error: File '{filename}' not found.\")\n",
        "      return\n",
        "\n",
        "\n",
        "  while True:\n",
        "      try:\n",
        "        a = float(input(\"Enter the quadratic coefficient (a) or type 'quit' to exit: \"))\n",
        "        if str(a).lower() == 'quit':\n",
        "          break # Gracefully exit the loop\n",
        "\n",
        "        b = float(input(\"Enter the linear coefficient (b): \"))\n",
        "        c = float(input(\"Enter the constant (c): \"))\n",
        "        time = float(input(\"Enter time value: \"))\n",
        "\n",
        "        temperature = a * (time**2) + b * time + c\n",
        "        print(f\"Temperature at time {time}: {temperature}\")\n",
        "      except ValueError:\n",
        "          print(\"Invalid input. Please enter numerical values or type 'quit'.\")\n",
        "\n",
        "\n",
        "\n",
        "\n",
        "quadratic_weather_model_multiple_inputs()\n"
      ],
      "metadata": {
        "colab": {
          "base_uri": "https://localhost:8080/",
          "height": 564
        },
        "id": "0HEs92Ek716u",
        "outputId": "0b9f79fa-dd37-49c4-cf3b-d613a8473849"
      },
      "execution_count": 4,
      "outputs": [
        {
          "output_type": "stream",
          "name": "stdout",
          "text": [
            "Enter the quadratic coefficient (a) or type 'quit' to exit: 2\n",
            "Enter the linear coefficient (b): 5\n",
            "Enter the constant (c): 3\n",
            "Enter time value: 56\n",
            "Temperature at time 56.0: 6555.0\n",
            "Enter the quadratic coefficient (a) or type 'quit' to exit: quit\n",
            "Invalid input. Please enter numerical values or type 'quit'.\n",
            "Enter the quadratic coefficient (a) or type 'quit' to exit: quit\n",
            "Invalid input. Please enter numerical values or type 'quit'.\n",
            "Enter the quadratic coefficient (a) or type 'quit' to exit: 2\n",
            "Enter the linear coefficient (b): 8\n",
            "Enter the constant (c): 7\n",
            "Enter time value: 12\n",
            "Temperature at time 12.0: 391.0\n"
          ]
        },
        {
          "output_type": "error",
          "ename": "KeyboardInterrupt",
          "evalue": "Interrupted by user",
          "traceback": [
            "\u001b[0;31m---------------------------------------------------------------------------\u001b[0m",
            "\u001b[0;31mKeyboardInterrupt\u001b[0m                         Traceback (most recent call last)",
            "\u001b[0;32m<ipython-input-4-2b817676a7c8>\u001b[0m in \u001b[0;36m<cell line: 77>\u001b[0;34m()\u001b[0m\n\u001b[1;32m     75\u001b[0m \u001b[0;34m\u001b[0m\u001b[0m\n\u001b[1;32m     76\u001b[0m \u001b[0;34m\u001b[0m\u001b[0m\n\u001b[0;32m---> 77\u001b[0;31m \u001b[0mquadratic_weather_model_multiple_inputs\u001b[0m\u001b[0;34m(\u001b[0m\u001b[0;34m)\u001b[0m\u001b[0;34m\u001b[0m\u001b[0;34m\u001b[0m\u001b[0m\n\u001b[0m",
            "\u001b[0;32m<ipython-input-4-2b817676a7c8>\u001b[0m in \u001b[0;36mquadratic_weather_model_multiple_inputs\u001b[0;34m(filename)\u001b[0m\n\u001b[1;32m     59\u001b[0m  \u001b[0;32mwhile\u001b[0m \u001b[0;32mTrue\u001b[0m\u001b[0;34m:\u001b[0m\u001b[0;34m\u001b[0m\u001b[0;34m\u001b[0m\u001b[0m\n\u001b[1;32m     60\u001b[0m      \u001b[0;32mtry\u001b[0m\u001b[0;34m:\u001b[0m\u001b[0;34m\u001b[0m\u001b[0;34m\u001b[0m\u001b[0m\n\u001b[0;32m---> 61\u001b[0;31m        \u001b[0ma\u001b[0m \u001b[0;34m=\u001b[0m \u001b[0mfloat\u001b[0m\u001b[0;34m(\u001b[0m\u001b[0minput\u001b[0m\u001b[0;34m(\u001b[0m\u001b[0;34m\"Enter the quadratic coefficient (a) or type 'quit' to exit: \"\u001b[0m\u001b[0;34m)\u001b[0m\u001b[0;34m)\u001b[0m\u001b[0;34m\u001b[0m\u001b[0;34m\u001b[0m\u001b[0m\n\u001b[0m\u001b[1;32m     62\u001b[0m        \u001b[0;32mif\u001b[0m \u001b[0mstr\u001b[0m\u001b[0;34m(\u001b[0m\u001b[0ma\u001b[0m\u001b[0;34m)\u001b[0m\u001b[0;34m.\u001b[0m\u001b[0mlower\u001b[0m\u001b[0;34m(\u001b[0m\u001b[0;34m)\u001b[0m \u001b[0;34m==\u001b[0m \u001b[0;34m'quit'\u001b[0m\u001b[0;34m:\u001b[0m\u001b[0;34m\u001b[0m\u001b[0;34m\u001b[0m\u001b[0m\n\u001b[1;32m     63\u001b[0m          \u001b[0;32mbreak\u001b[0m \u001b[0;31m# Gracefully exit the loop\u001b[0m\u001b[0;34m\u001b[0m\u001b[0;34m\u001b[0m\u001b[0m\n",
            "\u001b[0;32m/usr/local/lib/python3.10/dist-packages/ipykernel/kernelbase.py\u001b[0m in \u001b[0;36mraw_input\u001b[0;34m(self, prompt)\u001b[0m\n\u001b[1;32m    849\u001b[0m                 \u001b[0;34m\"raw_input was called, but this frontend does not support input requests.\"\u001b[0m\u001b[0;34m\u001b[0m\u001b[0;34m\u001b[0m\u001b[0m\n\u001b[1;32m    850\u001b[0m             )\n\u001b[0;32m--> 851\u001b[0;31m         return self._input_request(str(prompt),\n\u001b[0m\u001b[1;32m    852\u001b[0m             \u001b[0mself\u001b[0m\u001b[0;34m.\u001b[0m\u001b[0m_parent_ident\u001b[0m\u001b[0;34m,\u001b[0m\u001b[0;34m\u001b[0m\u001b[0;34m\u001b[0m\u001b[0m\n\u001b[1;32m    853\u001b[0m             \u001b[0mself\u001b[0m\u001b[0;34m.\u001b[0m\u001b[0m_parent_header\u001b[0m\u001b[0;34m,\u001b[0m\u001b[0;34m\u001b[0m\u001b[0;34m\u001b[0m\u001b[0m\n",
            "\u001b[0;32m/usr/local/lib/python3.10/dist-packages/ipykernel/kernelbase.py\u001b[0m in \u001b[0;36m_input_request\u001b[0;34m(self, prompt, ident, parent, password)\u001b[0m\n\u001b[1;32m    893\u001b[0m             \u001b[0;32mexcept\u001b[0m \u001b[0mKeyboardInterrupt\u001b[0m\u001b[0;34m:\u001b[0m\u001b[0;34m\u001b[0m\u001b[0;34m\u001b[0m\u001b[0m\n\u001b[1;32m    894\u001b[0m                 \u001b[0;31m# re-raise KeyboardInterrupt, to truncate traceback\u001b[0m\u001b[0;34m\u001b[0m\u001b[0;34m\u001b[0m\u001b[0m\n\u001b[0;32m--> 895\u001b[0;31m                 \u001b[0;32mraise\u001b[0m \u001b[0mKeyboardInterrupt\u001b[0m\u001b[0;34m(\u001b[0m\u001b[0;34m\"Interrupted by user\"\u001b[0m\u001b[0;34m)\u001b[0m \u001b[0;32mfrom\u001b[0m \u001b[0;32mNone\u001b[0m\u001b[0;34m\u001b[0m\u001b[0;34m\u001b[0m\u001b[0m\n\u001b[0m\u001b[1;32m    896\u001b[0m             \u001b[0;32mexcept\u001b[0m \u001b[0mException\u001b[0m \u001b[0;32mas\u001b[0m \u001b[0me\u001b[0m\u001b[0;34m:\u001b[0m\u001b[0;34m\u001b[0m\u001b[0;34m\u001b[0m\u001b[0m\n\u001b[1;32m    897\u001b[0m                 \u001b[0mself\u001b[0m\u001b[0;34m.\u001b[0m\u001b[0mlog\u001b[0m\u001b[0;34m.\u001b[0m\u001b[0mwarning\u001b[0m\u001b[0;34m(\u001b[0m\u001b[0;34m\"Invalid Message:\"\u001b[0m\u001b[0;34m,\u001b[0m \u001b[0mexc_info\u001b[0m\u001b[0;34m=\u001b[0m\u001b[0;32mTrue\u001b[0m\u001b[0;34m)\u001b[0m\u001b[0;34m\u001b[0m\u001b[0;34m\u001b[0m\u001b[0m\n",
            "\u001b[0;31mKeyboardInterrupt\u001b[0m: Interrupted by user"
          ]
        }
      ]
    }
  ]
}