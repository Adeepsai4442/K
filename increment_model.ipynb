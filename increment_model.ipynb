{
  "nbformat": 4,
  "nbformat_minor": 0,
  "metadata": {
    "colab": {
      "provenance": [],
      "authorship_tag": "ABX9TyMGmzBWObC5SX8sf9b6zZpP",
      "include_colab_link": true
    },
    "kernelspec": {
      "name": "python3",
      "display_name": "Python 3"
    },
    "language_info": {
      "name": "python"
    }
  },
  "cells": [
    {
      "cell_type": "markdown",
      "metadata": {
        "id": "view-in-github",
        "colab_type": "text"
      },
      "source": [
        "<a href=\"https://colab.research.google.com/github/Adeepsai4442/K/blob/main/increment_model.ipynb\" target=\"_parent\"><img src=\"https://colab.research.google.com/assets/colab-badge.svg\" alt=\"Open In Colab\"/></a>"
      ]
    },
    {
      "cell_type": "markdown",
      "source": [
        "stage 1"
      ],
      "metadata": {
        "id": "GU6XPzwzDXPp"
      }
    },
    {
      "cell_type": "code",
      "source": [
        "def quadratic_function(x, a, b, c):\n",
        "  \"\"\"\n",
        "  Calculates the value of the quadratic function.\n",
        "\n",
        "  Args:\n",
        "    x: The value of x.\n",
        "    a: The coefficient of x^2.\n",
        "    b: The coefficient of x.\n",
        "    c: The constant term.\n",
        "\n",
        "  Returns:\n",
        "    The value of the quadratic function.\n",
        "  \"\"\"\n",
        "  return a * x**2 + b * x + c"
      ],
      "metadata": {
        "id": "g6zagCUCDZBb"
      },
      "execution_count": 3,
      "outputs": []
    },
    {
      "cell_type": "markdown",
      "source": [
        "stage 2"
      ],
      "metadata": {
        "id": "bK2q5v5aDgsa"
      }
    },
    {
      "cell_type": "code",
      "source": [
        "def incremental_search(a, b, c, x_start, x_end, increment):\n",
        "  \"\"\"\n",
        "  Finds the roots of a quadratic equation using the incremental search method.\n",
        "\n",
        "  Args:\n",
        "    a: The coefficient of x^2.\n",
        "    b: The coefficient of x.\n",
        "    c: The constant term.\n",
        "    x_start: The starting value of x.\n",
        "    x_end: The ending value of x.\n",
        "    increment: The increment value for x.\n",
        "\n",
        "  Returns:\n",
        "    A list of roots found within the specified range.\n",
        "  \"\"\"\n",
        "  roots = []\n",
        "  x = x_start\n",
        "  while x <= x_end:\n",
        "    if abs(quadratic_function(x, a, b, c)) < 1e-6:  # Check for root using a tolerance\n",
        "      roots.append(x)\n",
        "    x += increment\n",
        "  return roots"
      ],
      "metadata": {
        "id": "5iMaQvLlDjUa"
      },
      "execution_count": 6,
      "outputs": []
    },
    {
      "cell_type": "markdown",
      "source": [
        "stage 3"
      ],
      "metadata": {
        "id": "La9YcbfxDoPK"
      }
    },
    {
      "cell_type": "code",
      "source": [
        "# Get the coefficients from the user\n",
        "a = float(input(\"Enter the coefficient of x^2: \"))\n",
        "b = float(input(\"Enter the coefficient of x: \"))\n",
        "c = float(input(\"Enter the constant term: \"))\n",
        "\n",
        "# Set the search range and increment\n",
        "x_start = -10\n",
        "x_end = 10\n",
        "increment = 0.1\n",
        "\n",
        "# Find the roots\n",
        "roots = incremental_search(a, b, c, x_start, x_end, increment)\n",
        "\n",
        "# Print the results\n",
        "if roots:\n",
        "  print(\"The roots of the quadratic equation are:\", roots)\n",
        "else:\n",
        "  print(\"No roots found within the specified range.\")"
      ],
      "metadata": {
        "colab": {
          "base_uri": "https://localhost:8080/"
        },
        "id": "JL_ZJcdZDpWt",
        "outputId": "016646ce-9768-4fd5-b5e6-59098316252e"
      },
      "execution_count": 7,
      "outputs": [
        {
          "output_type": "stream",
          "name": "stdout",
          "text": [
            "Enter the coefficient of x^2: 10\n",
            "Enter the coefficient of x: 10\n",
            "Enter the constant term: 10\n",
            "No roots found within the specified range.\n"
          ]
        }
      ]
    }
  ]
}