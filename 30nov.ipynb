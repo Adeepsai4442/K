{
  "nbformat": 4,
  "nbformat_minor": 0,
  "metadata": {
    "colab": {
      "provenance": [],
      "authorship_tag": "ABX9TyOIm45/dPBxnJzqXKEQq0yI",
      "include_colab_link": true
    },
    "kernelspec": {
      "name": "python3",
      "display_name": "Python 3"
    },
    "language_info": {
      "name": "python"
    }
  },
  "cells": [
    {
      "cell_type": "markdown",
      "metadata": {
        "id": "view-in-github",
        "colab_type": "text"
      },
      "source": [
        "<a href=\"https://colab.research.google.com/github/Adeepsai4442/K/blob/main/30nov.ipynb\" target=\"_parent\"><img src=\"https://colab.research.google.com/assets/colab-badge.svg\" alt=\"Open In Colab\"/></a>"
      ]
    },
    {
      "cell_type": "code",
      "execution_count": null,
      "metadata": {
        "colab": {
          "base_uri": "https://localhost:8080/"
        },
        "id": "Q6pcHvdE0goT",
        "outputId": "85968226-01a1-4fef-9200-307b41f75daa"
      },
      "outputs": [
        {
          "output_type": "stream",
          "name": "stdout",
          "text": [
            "Overwriting adeep.cpp\n"
          ]
        }
      ],
      "source": [
        "%%writefile adeep.cpp\n",
        "int power_no(int,int);\n",
        "#include<stdio.h>\n",
        "int main()\n",
        "{\n",
        "    int n,powervalue,result;\n",
        "    printf(\"enter a no\");\n",
        "    scanf(\"%d%d\",&n,&powervalue);\n",
        "    result=power_no(n,powervalue);\n",
        "    printf(\"%d\",result);\n",
        "    return 0;\n",
        "}(int x,int a)\n",
        "{\n",
        "    if(a==0)\n",
        "\n",
        "return 1;\n",
        "else\n",
        "return (x*power_no(x,a-1));\n",
        "}\n",
        "\n",
        " int power_no\n"
      ]
    },
    {
      "cell_type": "code",
      "source": [],
      "metadata": {
        "id": "4tElwSwL8Id3"
      },
      "execution_count": null,
      "outputs": []
    },
    {
      "cell_type": "code",
      "source": [],
      "metadata": {
        "id": "9nQO-cIT9v0D"
      },
      "execution_count": null,
      "outputs": []
    },
    {
      "cell_type": "code",
      "source": [
        "!g++ adeep.cpp"
      ],
      "metadata": {
        "id": "K70Yr7ifF6pP"
      },
      "execution_count": null,
      "outputs": []
    },
    {
      "cell_type": "code",
      "source": [
        "!./a.out"
      ],
      "metadata": {
        "colab": {
          "base_uri": "https://localhost:8080/"
        },
        "id": "xob_QBNYG7DH",
        "outputId": "555ad870-4600-4f75-a494-4e708281efcb"
      },
      "execution_count": null,
      "outputs": [
        {
          "output_type": "stream",
          "name": "stdout",
          "text": [
            "enter a no69 2\n",
            "4761"
          ]
        }
      ]
    }
  ]
}